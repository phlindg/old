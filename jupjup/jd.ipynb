{
 "cells": [
  {
   "cell_type": "code",
   "execution_count": 3,
   "metadata": {},
   "outputs": [],
   "source": [
    "import numpy as np\n",
    "import pandas as pd\n",
    "import matplotlib.pyplot as plt\n"
   ]
  },
  {
   "cell_type": "markdown",
   "metadata": {},
   "source": [
    "Ovan importas allt som behövs\n",
    "\n",
    "Under så tar vi in all data som behövs"
   ]
  },
  {
   "cell_type": "code",
   "execution_count": 15,
   "metadata": {},
   "outputs": [
    {
     "data": {
      "text/html": [
       "<div>\n",
       "<style scoped>\n",
       "    .dataframe tbody tr th:only-of-type {\n",
       "        vertical-align: middle;\n",
       "    }\n",
       "\n",
       "    .dataframe tbody tr th {\n",
       "        vertical-align: top;\n",
       "    }\n",
       "\n",
       "    .dataframe thead th {\n",
       "        text-align: right;\n",
       "    }\n",
       "</style>\n",
       "<table border=\"1\" class=\"dataframe\">\n",
       "  <thead>\n",
       "    <tr style=\"text-align: right;\">\n",
       "      <th></th>\n",
       "      <th>close</th>\n",
       "    </tr>\n",
       "    <tr>\n",
       "      <th>Date</th>\n",
       "      <th></th>\n",
       "    </tr>\n",
       "  </thead>\n",
       "  <tbody>\n",
       "    <tr>\n",
       "      <th>2019-02-21 15:00:00</th>\n",
       "      <td>152.70</td>\n",
       "    </tr>\n",
       "    <tr>\n",
       "      <th>2019-02-21 14:30:00</th>\n",
       "      <td>152.50</td>\n",
       "    </tr>\n",
       "    <tr>\n",
       "      <th>2019-02-21 14:00:00</th>\n",
       "      <td>152.65</td>\n",
       "    </tr>\n",
       "    <tr>\n",
       "      <th>2019-02-21 13:30:00</th>\n",
       "      <td>152.85</td>\n",
       "    </tr>\n",
       "    <tr>\n",
       "      <th>2019-02-21 13:00:00</th>\n",
       "      <td>153.25</td>\n",
       "    </tr>\n",
       "  </tbody>\n",
       "</table>\n",
       "</div>"
      ],
      "text/plain": [
       "                      close\n",
       "Date                       \n",
       "2019-02-21 15:00:00  152.70\n",
       "2019-02-21 14:30:00  152.50\n",
       "2019-02-21 14:00:00  152.65\n",
       "2019-02-21 13:30:00  152.85\n",
       "2019-02-21 13:00:00  153.25"
      ]
     },
     "execution_count": 15,
     "metadata": {},
     "output_type": "execute_result"
    }
   ],
   "source": [
    "csv_dir = \"C:/Users/Phili/Desktop/fond/data/30 Min/SAND.csv\"\n",
    "data = pd.read_csv(csv_dir, header=0, index_col = 0, parse_dates = True, sep=\";\", names = [\"Date\", \"close\"])\n",
    "data.head()\n",
    "\n",
    "close = data[\"close\"]#[data.index > \"2018-03-01\"]\n",
    "signals = pd.DataFrame(data=close.values,index = close.index, columns=[\"close\"])\n",
    "signals.head()\n"
   ]
  },
  {
   "cell_type": "markdown",
   "metadata": {},
   "source": [
    "Plotta det man vill plotta"
   ]
  },
  {
   "cell_type": "code",
   "execution_count": 16,
   "metadata": {},
   "outputs": [
    {
     "data": {
      "text/plain": [
       "<matplotlib.legend.Legend at 0x20ee3812630>"
      ]
     },
     "execution_count": 16,
     "metadata": {},
     "output_type": "execute_result"
    },
    {
     "data": {
      "image/png": "[encoded data removed]",
      "text/plain": [
       "<Figure size 432x288 with 1 Axes>"
      ]
     },
     "metadata": {
      "needs_background": "light"
     },
     "output_type": "display_data"
    }
   ],
   "source": [
    "plt.plot(close, label=\"close\")\n",
    "plt.legend()"
   ]
  },
  {
   "cell_type": "markdown",
   "metadata": {},
   "source": [
    "Det är här själva trading logiken finns. Det skapas en lista med där man har:\n",
    "    1 = long\n",
    "    -1 = short\n",
    "    0 = ingen\n",
    "\"positions\" är då man går in eller ut ur en position. "
   ]
  },
  {
   "cell_type": "code",
   "execution_count": 112,
   "metadata": {},
   "outputs": [],
   "source": [
    "#HÄR RÄKNAS GBM UT\n",
    "def Brownian(N):                        \n",
    "    dt = 1./N                                    # time step\n",
    "    b = np.random.normal(0., 1., int(N))*np.sqrt(dt)  # brownian increments\n",
    "    W = np.cumsum(b)                             # brownian path\n",
    "    return W\n",
    "\n",
    "def GBM(So, mu, sigma, N):    \n",
    "    dt = 1/N\n",
    "    W = Brownian(N)\n",
    "    t = np.linspace(0, N, N)\n",
    "    X = (mu-0.5*sigma**2)*t + sigma*W\n",
    "    plt.plot(X)\n",
    "    S = So*np.exp(X)\n",
    "    return S\n",
    "def gen_path(close,interval):\n",
    "    i = interval\n",
    "    prices = []\n",
    "    path = []\n",
    "    for price in close:\n",
    "        prices.append(price)\n",
    "        i-=1\n",
    "        if i == 0:\n",
    "            mu = np.mean(prices)\n",
    "            sigma = np.std(prices)\n",
    "            S = GBM(price, mu, sigma, interval)\n",
    "            i = interval\n",
    "            #prices = []\n",
    "            for k in S:\n",
    "                path.append(k)\n",
    "    return path"
   ]
  },
  {
   "cell_type": "code",
   "execution_count": 113,
   "metadata": {},
   "outputs": [
    {
     "name": "stderr",
     "output_type": "stream",
     "text": [
      "C:\\Program Files (x86)\\Microsoft Visual Studio\\Shared\\Anaconda3_64\\lib\\site-packages\\ipykernel_launcher.py:14: RuntimeWarning: overflow encountered in exp\n",
      "  \n"
     ]
    },
    {
     "data": {
      "text/plain": [
       "[<matplotlib.lines.Line2D at 0x20ee7696748>]"
      ]
     },
     "execution_count": 113,
     "metadata": {},
     "output_type": "execute_result"
    },
    {
     "data": {
      "image/png": "[encoded data removed]",
      "text/plain": [
       "<Figure size 432x288 with 1 Axes>"
      ]
     },
     "metadata": {
      "needs_background": "light"
     },
     "output_type": "display_data"
    }
   ],
   "source": [
    "c = signals[\"close\"]\n",
    "length = len(c)\n",
    "interval = 20\n",
    "\n",
    "S = GBM(c[0], np.mean(c), np.std(c), len(c))\n",
    "plt.plot(S)"
   ]
  },
  {
   "cell_type": "code",
   "execution_count": 5,
   "metadata": {},
   "outputs": [],
   "source": [
    "\n",
    "\n",
    "signals[\"signal\"][sw:] = np.where(woop), 1.0, 0.0)\n",
    "signals[\"positions\"] = signals[\"signal\"].diff()\n"
   ]
  },
  {
   "cell_type": "markdown",
   "metadata": {},
   "source": [
    "Här plottas signalerna, när man köpt osv."
   ]
  },
  {
   "cell_type": "code",
   "execution_count": 6,
   "metadata": {},
   "outputs": [
    {
     "data": {
      "text/plain": [
       "[<matplotlib.lines.Line2D at 0x163a1df8240>]"
      ]
     },
     "execution_count": 6,
     "metadata": {},
     "output_type": "execute_result"
    },
    {
     "data": {
      "image/png": "[encoded data removed]",
      "text/plain": [
       "<Figure size 432x288 with 1 Axes>"
      ]
     },
     "metadata": {
      "needs_background": "light"
     },
     "output_type": "display_data"
    }
   ],
   "source": [
    "fig = plt.figure()\n",
    "ax1 = fig.add_subplot(111,  ylabel='Price in $')\n",
    "#signals[['short', 'middle', \"long\"]].plot(ax=ax1, lw=2.)\n",
    "signals[\"close\"].plot(ax=ax1, lw=2.)\n",
    "\n",
    "\n",
    "# Plot the buy signals\n",
    "ax1.plot(signals.loc[signals[\"positions\"] == 1.0].index, \n",
    "         signals.close[signals[\"positions\"] == 1.0],\n",
    "         '^', markersize=10, color='m')\n",
    "         \n",
    "# Plot the sell signals\n",
    "ax1.plot(signals.loc[signals[\"positions\"] == -1.0].index, \n",
    "         signals.close[signals[\"positions\"] == -1.0],\n",
    "         'v', markersize=10, color='k')"
   ]
  },
  {
   "cell_type": "markdown",
   "metadata": {},
   "source": [
    "Här räknas returns ut. "
   ]
  },
  {
   "cell_type": "code",
   "execution_count": 3,
   "metadata": {},
   "outputs": [
    {
     "ename": "NameError",
     "evalue": "name 'close' is not defined",
     "output_type": "error",
     "traceback": [
      "\u001b[1;31m---------------------------------------------------------------------------\u001b[0m",
      "\u001b[1;31mNameError\u001b[0m                                 Traceback (most recent call last)",
      "\u001b[1;32m<ipython-input-3-4b5fa1db978b>\u001b[0m in \u001b[0;36m<module>\u001b[1;34m()\u001b[0m\n\u001b[1;32m----> 1\u001b[1;33m \u001b[0mport\u001b[0m \u001b[1;33m=\u001b[0m \u001b[0mpd\u001b[0m\u001b[1;33m.\u001b[0m\u001b[0mDataFrame\u001b[0m\u001b[1;33m(\u001b[0m\u001b[0mindex\u001b[0m\u001b[1;33m=\u001b[0m\u001b[0mclose\u001b[0m\u001b[1;33m.\u001b[0m\u001b[0mindex\u001b[0m\u001b[1;33m)\u001b[0m\u001b[1;33m\u001b[0m\u001b[0m\n\u001b[0m\u001b[0;32m      2\u001b[0m \u001b[0mport\u001b[0m\u001b[1;33m[\u001b[0m\u001b[1;34m\"rets\"\u001b[0m\u001b[1;33m]\u001b[0m \u001b[1;33m=\u001b[0m \u001b[0mclose\u001b[0m\u001b[1;33m.\u001b[0m\u001b[0mpct_change\u001b[0m\u001b[1;33m(\u001b[0m\u001b[1;33m)\u001b[0m\u001b[1;33m.\u001b[0m\u001b[0mdropna\u001b[0m\u001b[1;33m(\u001b[0m\u001b[1;33m)\u001b[0m\u001b[1;33m\u001b[0m\u001b[0m\n\u001b[0;32m      3\u001b[0m \u001b[1;33m\u001b[0m\u001b[0m\n\u001b[0;32m      4\u001b[0m \u001b[0mport\u001b[0m\u001b[1;33m[\u001b[0m\u001b[1;34m\"total_rets\"\u001b[0m\u001b[1;33m]\u001b[0m \u001b[1;33m=\u001b[0m \u001b[0mport\u001b[0m\u001b[1;33m[\u001b[0m\u001b[1;34m\"rets\"\u001b[0m\u001b[1;33m]\u001b[0m\u001b[1;33m*\u001b[0m\u001b[0msignals\u001b[0m\u001b[1;33m[\u001b[0m\u001b[1;34m\"signal\"\u001b[0m\u001b[1;33m]\u001b[0m\u001b[1;33m\u001b[0m\u001b[0m\n\u001b[0;32m      5\u001b[0m \u001b[0mport\u001b[0m\u001b[1;33m[\u001b[0m\u001b[1;34m\"equity_curve\"\u001b[0m\u001b[1;33m]\u001b[0m \u001b[1;33m=\u001b[0m \u001b[1;33m(\u001b[0m\u001b[1;36m1.0\u001b[0m \u001b[1;33m+\u001b[0m \u001b[0mport\u001b[0m\u001b[1;33m[\u001b[0m\u001b[1;34m\"total_rets\"\u001b[0m\u001b[1;33m]\u001b[0m\u001b[1;33m)\u001b[0m\u001b[1;33m.\u001b[0m\u001b[0mcumprod\u001b[0m\u001b[1;33m(\u001b[0m\u001b[1;33m)\u001b[0m\u001b[1;33m\u001b[0m\u001b[0m\n",
      "\u001b[1;31mNameError\u001b[0m: name 'close' is not defined"
     ]
    }
   ],
   "source": [
    "port = pd.DataFrame(index=close.index)\n",
    "port[\"rets\"] = close.pct_change().dropna()\n",
    "\n",
    "port[\"total_rets\"] = port[\"rets\"]*signals[\"signal\"]\n",
    "port[\"equity_curve\"] = (1.0 + port[\"total_rets\"]).cumprod()\n",
    "port[\"volatility\"] = port[\"total_rets\"].rolling(252).std()\n",
    "plt.subplot(1,3,1)\n",
    "plt.plot(port[\"equity_curve\"])\n",
    "plt.subplot(1,3,2)\n",
    "plt.plot(port[\"total_rets\"])\n",
    "plt.subplot(1,3,3)\n",
    "plt.plot(port[\"volatility\"])"
   ]
  }
 ],
 "metadata": {
  "kernelspec": {
   "display_name": "Python 3",
   "language": "python",
   "name": "python3"
  },
  "language_info": {
   "codemirror_mode": {
    "name": "ipython",
    "version": 3
   },
   "file_extension": ".py",
   "mimetype": "text/x-python",
   "name": "python",
   "nbconvert_exporter": "python",
   "pygments_lexer": "ipython3",
   "version": "3.5.6"
  }
 },
 "nbformat": 4,
 "nbformat_minor": 2
}
